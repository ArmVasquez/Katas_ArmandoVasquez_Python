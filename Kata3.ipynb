{
 "cells": [
  {
   "cell_type": "markdown",
   "metadata": {},
   "source": [
    "## Ejercicio - Escribir declaraciones if, else, y elif"
   ]
  },
  {
   "cell_type": "code",
   "execution_count": 4,
   "metadata": {},
   "outputs": [
    {
     "name": "stdout",
     "output_type": "stream",
     "text": [
      "Advertencia de asteroide\n"
     ]
    }
   ],
   "source": [
    "VelAsteroide = 49 \n",
    "\n",
    "if VelAsteroide > 25:\n",
    "    print(\"Advertencia de asteroide\")\n",
    "else:\n",
    "    print(\"No hay advertencia\")"
   ]
  },
  {
   "cell_type": "code",
   "execution_count": 6,
   "metadata": {},
   "outputs": [
    {
     "name": "stdout",
     "output_type": "stream",
     "text": [
      "No hay asteroides por ver\n"
     ]
    }
   ],
   "source": [
    "VelAsteroide = 19\n",
    "\n",
    "if VelAsteroide > 20:\n",
    "    print(\"Rayo de luz visible\")\n",
    "elif VelAsteroide == 20:\n",
    "    print(\"Rayo de luz visible\")\n",
    "else:\n",
    "    print(\"No hay asteroides por ver\")\n",
    "    \n"
   ]
  },
  {
   "cell_type": "markdown",
   "metadata": {},
   "source": [
    "## Ejercicio: Uso de operadores and y or"
   ]
  },
  {
   "cell_type": "code",
   "execution_count": 10,
   "metadata": {},
   "outputs": [
    {
     "name": "stdout",
     "output_type": "stream",
     "text": [
      "Rayo de luz visible\n"
     ]
    }
   ],
   "source": [
    "VelAsteroide = 25\n",
    "TamAsteroide = 30\n",
    "\n",
    "if VelAsteroide > 25 and TamAsteroide > 25:\n",
    "    print(\"Advertencia de asteroide\")\n",
    "elif VelAsteroide >= 20:\n",
    "    print(\"Rayo de luz visible\")\n",
    "elif TamAsteroide < 25:\n",
    "    print(\"No hay asteroides por ver\")\n",
    "else:\n",
    "    print(\"No hay asteroides por ver\")\n"
   ]
  }
 ],
 "metadata": {
  "interpreter": {
   "hash": "2cd63ce63154444726240f42c6fe807ce681eaf47a3b53b1ec212fa1835093ee"
  },
  "kernelspec": {
   "display_name": "Python 3.10.2 64-bit (windows store)",
   "language": "python",
   "name": "python3"
  },
  "language_info": {
   "codemirror_mode": {
    "name": "ipython",
    "version": 3
   },
   "file_extension": ".py",
   "mimetype": "text/x-python",
   "name": "python",
   "nbconvert_exporter": "python",
   "pygments_lexer": "ipython3",
   "version": "3.10.2"
  },
  "orig_nbformat": 4
 },
 "nbformat": 4,
 "nbformat_minor": 2
}
