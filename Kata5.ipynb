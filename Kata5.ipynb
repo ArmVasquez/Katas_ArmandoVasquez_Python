{
 "cells": [
  {
   "cell_type": "markdown",
   "metadata": {},
   "source": [
    "## Ejercicio 1 - Utilizar operadores aritméticos"
   ]
  },
  {
   "cell_type": "code",
   "execution_count": 20,
   "metadata": {},
   "outputs": [],
   "source": [
    "Tierra = 149597870 # km\n",
    "Jupiter = 778547200 # km\n"
   ]
  },
  {
   "cell_type": "markdown",
   "metadata": {},
   "source": [
    "Realizar la operación"
   ]
  },
  {
   "cell_type": "code",
   "execution_count": 21,
   "metadata": {},
   "outputs": [
    {
     "name": "stdout",
     "output_type": "stream",
     "text": [
      "Distancia en km: 628949330\n",
      "Distancia en millas: 390577533.93\n"
     ]
    }
   ],
   "source": [
    "resta = Jupiter - Tierra\n",
    "print('Distancia en km: '+ str(resta))\n",
    "resta = resta * 0.621 # millas\n",
    "print('Distancia en millas: '+ str(resta))"
   ]
  },
  {
   "cell_type": "markdown",
   "metadata": {},
   "source": [
    "## Ejercicio 2 - Convierte cadenas en números y usa valores absolutos"
   ]
  },
  {
   "cell_type": "code",
   "execution_count": 22,
   "metadata": {},
   "outputs": [],
   "source": [
    "planeta1 = input('Agrega la distancia del sol al primer planeta:')\n",
    "planeta2 = input('Agrega la distancia del sol al segundo planeta:')\n",
    "planeta1 = int(planeta1)\n",
    "planeta2 = int(planeta2)"
   ]
  },
  {
   "cell_type": "code",
   "execution_count": 23,
   "metadata": {},
   "outputs": [
    {
     "name": "stdout",
     "output_type": "stream",
     "text": [
      "41400000\n",
      "25709400.0\n"
     ]
    }
   ],
   "source": [
    "resta_planetas = (abs(planeta1 - planeta2))\n",
    "print(resta_planetas)\n",
    "resta_planetas = resta_planetas * 0.621\n",
    "print(resta_planetas)"
   ]
  }
 ],
 "metadata": {
  "interpreter": {
   "hash": "2cd63ce63154444726240f42c6fe807ce681eaf47a3b53b1ec212fa1835093ee"
  },
  "kernelspec": {
   "display_name": "Python 3.10.2 64-bit (windows store)",
   "language": "python",
   "name": "python3"
  },
  "language_info": {
   "codemirror_mode": {
    "name": "ipython",
    "version": 3
   },
   "file_extension": ".py",
   "mimetype": "text/x-python",
   "name": "python",
   "nbconvert_exporter": "python",
   "pygments_lexer": "ipython3",
   "version": "3.10.2"
  },
  "orig_nbformat": 4
 },
 "nbformat": 4,
 "nbformat_minor": 2
}
