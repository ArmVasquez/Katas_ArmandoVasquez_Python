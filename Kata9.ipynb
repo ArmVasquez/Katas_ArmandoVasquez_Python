{
 "cells": [
  {
   "cell_type": "markdown",
   "metadata": {},
   "source": [
    "## Ejercicio 1: Trabajar con argumentos en funciones\n"
   ]
  },
  {
   "cell_type": "code",
   "execution_count": 6,
   "metadata": {},
   "outputs": [],
   "source": [
    "def combustible(tanque1, tanque2, tanque3):\n",
    "    promedio = (tanque1 + tanque2 + tanque3)/3\n",
    "    return f\"\"\"Combustible promedio: {promedio}\n",
    "    Tanque 1: {tanque1}\n",
    "    Tanque 2: {tanque2}\n",
    "    Tanque 3: {tanque3}\"\"\"\n"
   ]
  },
  {
   "cell_type": "code",
   "execution_count": 8,
   "metadata": {},
   "outputs": [
    {
     "name": "stdout",
     "output_type": "stream",
     "text": [
      "Combustible promedio: 28.333333333333332\n",
      "    Tanque 1: 30\n",
      "    Tanque 2: 45\n",
      "    Tanque 3: 10\n"
     ]
    }
   ],
   "source": [
    "print(combustible(30, 45, 10))"
   ]
  },
  {
   "cell_type": "code",
   "execution_count": 12,
   "metadata": {},
   "outputs": [
    {
     "data": {
      "text/plain": [
       "80.0"
      ]
     },
     "execution_count": 12,
     "metadata": {},
     "output_type": "execute_result"
    }
   ],
   "source": [
    "def promedio(combustible):\n",
    "    total = sum(combustible)\n",
    "    no_tanques = len(combustible)\n",
    "    return total/no_tanques\n",
    "\n",
    "promedio([90, 80, 70])"
   ]
  },
  {
   "cell_type": "code",
   "execution_count": 13,
   "metadata": {},
   "outputs": [
    {
     "name": "stdout",
     "output_type": "stream",
     "text": [
      "Combustible promedio: 66.66666666666667\n",
      "    Tanque 1: 80\n",
      "    Tanque 2: 30\n",
      "    Tanque 3: 90\n"
     ]
    }
   ],
   "source": [
    "def combustible(tanque1, tanque2, tanque3):\n",
    "    return f\"\"\"Combustible promedio: {promedio([tanque1, tanque2, tanque3])}\n",
    "    Tanque 1: {tanque1}\n",
    "    Tanque 2: {tanque2}\n",
    "    Tanque 3: {tanque3}\"\"\"\n",
    "\n",
    "print(combustible(80,30,90))"
   ]
  },
  {
   "cell_type": "markdown",
   "metadata": {},
   "source": [
    "## Ejercicio 2: Trabajo con argumentos de palabra clave\n"
   ]
  },
  {
   "cell_type": "code",
   "execution_count": 15,
   "metadata": {},
   "outputs": [
    {
     "name": "stdout",
     "output_type": "stream",
     "text": [
      "Destino: Luna\n",
      "Tiempo hasta destino: 64\n",
      "Combustible: 130\n"
     ]
    }
   ],
   "source": [
    "def informe(hora_prelanzamiento, tiempo_vuelo, destino, tanque_ext, tanque_int):\n",
    "    return f\"\"\"Destino: {destino}\n",
    "Tiempo hasta destino: {tiempo_vuelo + hora_prelanzamiento}\n",
    "Combustible: {tanque_ext + tanque_int}\"\"\"\n",
    "\n",
    "print(informe(14, 50, 'Luna', 50, 80))"
   ]
  },
  {
   "cell_type": "code",
   "execution_count": 17,
   "metadata": {},
   "outputs": [
    {
     "name": "stdout",
     "output_type": "stream",
     "text": [
      "Destino: Luna\n",
      "Tiempo hasta destino: 76\n",
      "Combustible: 600\n"
     ]
    }
   ],
   "source": [
    "def informe(destino, *minutes, **fuel_reservoirs):\n",
    "    return f\"\"\"Destino: {destino}\n",
    "Tiempo hasta destino: {sum(minutes)}\n",
    "Combustible: {sum(fuel_reservoirs.values())}\"\"\"\n",
    "\n",
    "print(informe('Luna', 10, 15, 51, interno=500, externo=100))"
   ]
  },
  {
   "cell_type": "code",
   "execution_count": 21,
   "metadata": {},
   "outputs": [
    {
     "name": "stdout",
     "output_type": "stream",
     "text": [
      "Destino: Luna\n",
      "Tiempo hasta destino: 76\n",
      "Combustible: 600\n",
      " tanque interno: 500\n",
      " tanque externo: 100\n"
     ]
    }
   ],
   "source": [
    "def informe(destino, *minutes, **fuel_reservoirs):\n",
    "    rep_principal = f\"\"\"Destino: {destino}\n",
    "Tiempo hasta destino: {sum(minutes)}\n",
    "Combustible: {sum(fuel_reservoirs.values())}\"\"\"\n",
    "    for nombre_tanque, galones in fuel_reservoirs.items():\n",
    "        rep_principal += f\"\\n tanque {nombre_tanque}: {galones}\"\n",
    "    return rep_principal\n",
    "\n",
    "\n",
    "\n",
    "print(informe('Luna', 10, 15, 51, interno=500, externo=100))"
   ]
  }
 ],
 "metadata": {
  "interpreter": {
   "hash": "2cd63ce63154444726240f42c6fe807ce681eaf47a3b53b1ec212fa1835093ee"
  },
  "kernelspec": {
   "display_name": "Python 3.10.2 64-bit (windows store)",
   "language": "python",
   "name": "python3"
  },
  "language_info": {
   "codemirror_mode": {
    "name": "ipython",
    "version": 3
   },
   "file_extension": ".py",
   "mimetype": "text/x-python",
   "name": "python",
   "nbconvert_exporter": "python",
   "pygments_lexer": "ipython3",
   "version": "3.10.2"
  },
  "orig_nbformat": 4
 },
 "nbformat": 4,
 "nbformat_minor": 2
}
